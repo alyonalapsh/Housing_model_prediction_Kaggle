{
 "cells": [
  {
   "cell_type": "code",
   "execution_count": 1,
   "id": "234b3b54",
   "metadata": {},
   "outputs": [],
   "source": [
    "from sklearn.manifold import TSNE\n",
    "import pandas as pd\n",
    "import numpy as np\n",
    "\n",
    "from sklearn.ensemble import GradientBoostingRegressor, RandomForestRegressor\n",
    "from sklearn.model_selection import train_test_split, cross_val_score, KFold, GridSearchCV\n",
    "from sklearn.metrics import r2_score, mean_absolute_error\n",
    "from sklearn.preprocessing import StandardScaler\n",
    "from sklearn.cluster import KMeans\n",
    "\n",
    "import matplotlib\n",
    "import matplotlib.pyplot as plt\n",
    "import seaborn as sns\n",
    "%matplotlib inline"
   ]
  },
  {
   "cell_type": "code",
   "execution_count": 10,
   "id": "c6e0589b",
   "metadata": {},
   "outputs": [],
   "source": [
    "def check_r2(X, y):\n",
    "    X_train, X_test, y_train, y_test = train_test_split(X, y, test_size=0.3)\n",
    "    for n in range(10, 21):\n",
    "        kmeans = KMeans(n_clusters=n, n_init=5)\n",
    "        labels_train = kmeans.fit_predict(X_train)\n",
    "        labels_test = kmeans.predict(X_test)\n",
    "        \n",
    "        y_test_pred_all = np.empty((0,))\n",
    "        y_test_all = np.empty((0,))\n",
    "        for idx in range(n):\n",
    "\n",
    "            clf = RandomForestRegressor(n_estimators=200, max_depth=6, max_features=5)\n",
    "\n",
    "            clf.fit(X_train.loc[labels_train == idx], y_train[labels_train == idx]['Price'])\n",
    "            y_test_pred = clf.predict(X_test.loc[labels_test == idx])\n",
    "\n",
    "            y_test_pred_all = np.hstack([y_test_pred_all, y_test_pred])\n",
    "            y_test_all = np.hstack([y_test_all, y_test[labels_test == idx]['Price']])\n",
    "\n",
    "        r2 = r2_score(y_test_all, y_test_pred_all)\n",
    "        print(f'For {n} clusters, r2 score: {r2}')"
   ]
  },
  {
   "cell_type": "code",
   "execution_count": 3,
   "id": "4ad03528",
   "metadata": {},
   "outputs": [],
   "source": [
    "train = pd.read_csv('data_housing_model/train_housing_prepared')\n",
    "test = pd.read_csv('data_housing_model/test_housing_prepared')\n",
    "train.set_index('Id', inplace=True)\n",
    "test.set_index('Id', inplace=True)"
   ]
  },
  {
   "cell_type": "code",
   "execution_count": 5,
   "id": "96bb0152",
   "metadata": {},
   "outputs": [],
   "source": [
    "train_standardized = pd.read_csv('data_housing_model/train_standardized_housing_prepared')\n",
    "test_standardized = pd.read_csv('data_housing_model/test_standardized_housing_prepared')\n",
    "train_standardized.set_index('Id', inplace=True)\n",
    "test_standardized.set_index('Id', inplace=True)"
   ]
  },
  {
   "cell_type": "code",
   "execution_count": 6,
   "id": "56a1290d",
   "metadata": {},
   "outputs": [],
   "source": [
    "train_normalized = pd.read_csv('data_housing_model/train_normalized_housing_prepared')\n",
    "test_normalized = pd.read_csv('data_housing_model/test_normalized_housing_prepared')\n",
    "train_normalized.set_index('Id', inplace=True)\n",
    "test_normalized.set_index('Id', inplace=True)"
   ]
  },
  {
   "cell_type": "code",
   "execution_count": 7,
   "id": "c85851c3",
   "metadata": {},
   "outputs": [],
   "source": [
    "train_scaled = pd.read_csv('data_housing_model/train_scaled_housing_prepared')\n",
    "test_scaled = pd.read_csv('data_housing_model/test_scaled_housing_prepared')\n",
    "train_scaled.set_index('Id', inplace=True)\n",
    "test_scaled.set_index('Id', inplace=True)"
   ]
  },
  {
   "cell_type": "code",
   "execution_count": 8,
   "id": "608ffff3",
   "metadata": {},
   "outputs": [],
   "source": [
    "y = pd.read_csv('data_housing_model/housing_y')\n",
    "y.drop('Id', axis=1, inplace=True)"
   ]
  },
  {
   "cell_type": "code",
   "execution_count": 11,
   "id": "ca0e8ac6",
   "metadata": {},
   "outputs": [
    {
     "name": "stdout",
     "output_type": "stream",
     "text": [
      "For 10 clusters, r2 score: 0.6855340387855915\n",
      "For 11 clusters, r2 score: 0.6864916507232922\n",
      "For 12 clusters, r2 score: 0.685760317541176\n",
      "For 13 clusters, r2 score: 0.6894060839702139\n",
      "For 14 clusters, r2 score: 0.6880529104629021\n",
      "For 15 clusters, r2 score: 0.6907914896872297\n",
      "For 16 clusters, r2 score: 0.6865978399431192\n",
      "For 17 clusters, r2 score: 0.6891165146879302\n",
      "For 18 clusters, r2 score: 0.6861665667724139\n",
      "For 19 clusters, r2 score: 0.6915061302858141\n",
      "For 20 clusters, r2 score: 0.6901737015337474\n"
     ]
    }
   ],
   "source": [
    "check_r2(train, y)"
   ]
  },
  {
   "cell_type": "code",
   "execution_count": 12,
   "id": "d1206f1a",
   "metadata": {},
   "outputs": [
    {
     "name": "stdout",
     "output_type": "stream",
     "text": [
      "For 10 clusters, r2 score: 0.713668029191733\n",
      "For 11 clusters, r2 score: 0.70885545694975\n",
      "For 12 clusters, r2 score: 0.7072120481768964\n",
      "For 13 clusters, r2 score: 0.7076116445086065\n",
      "For 14 clusters, r2 score: 0.7108469207800681\n",
      "For 15 clusters, r2 score: 0.7074216137057353\n",
      "For 16 clusters, r2 score: 0.7090752580847535\n",
      "For 17 clusters, r2 score: 0.7087502992037831\n",
      "For 18 clusters, r2 score: 0.7049437557765876\n",
      "For 19 clusters, r2 score: 0.7102714729608868\n",
      "For 20 clusters, r2 score: 0.7060010472294858\n"
     ]
    }
   ],
   "source": [
    "check_r2(train_standardized, y)"
   ]
  },
  {
   "cell_type": "code",
   "execution_count": 13,
   "id": "71e3071b",
   "metadata": {},
   "outputs": [
    {
     "name": "stdout",
     "output_type": "stream",
     "text": [
      "For 10 clusters, r2 score: 0.713410511986543\n",
      "For 11 clusters, r2 score: 0.7186357375921921\n",
      "For 12 clusters, r2 score: 0.7093319872753192\n",
      "For 13 clusters, r2 score: 0.7136609792701064\n",
      "For 14 clusters, r2 score: 0.719050402040391\n",
      "For 15 clusters, r2 score: 0.715777866310706\n",
      "For 16 clusters, r2 score: 0.7166220680956289\n",
      "For 17 clusters, r2 score: 0.7175259512053153\n",
      "For 18 clusters, r2 score: 0.7142802165217135\n",
      "For 19 clusters, r2 score: 0.7151302639315928\n",
      "For 20 clusters, r2 score: 0.7170946131599676\n"
     ]
    }
   ],
   "source": [
    "check_r2(train_normalized, y)"
   ]
  },
  {
   "cell_type": "code",
   "execution_count": 14,
   "id": "b30f54fe",
   "metadata": {},
   "outputs": [
    {
     "name": "stdout",
     "output_type": "stream",
     "text": [
      "For 10 clusters, r2 score: 0.6826633348485136\n",
      "For 11 clusters, r2 score: 0.6798148298507443\n",
      "For 12 clusters, r2 score: 0.6828782020622726\n",
      "For 13 clusters, r2 score: 0.6781218984289983\n",
      "For 14 clusters, r2 score: 0.6822168260198892\n",
      "For 15 clusters, r2 score: 0.6882487083959709\n",
      "For 16 clusters, r2 score: 0.683282050048366\n",
      "For 17 clusters, r2 score: 0.6781866438719182\n",
      "For 18 clusters, r2 score: 0.6759673179742034\n",
      "For 19 clusters, r2 score: 0.6825932866341644\n",
      "For 20 clusters, r2 score: 0.6851030349804308\n"
     ]
    }
   ],
   "source": [
    "check_r2(train_scaled, y)"
   ]
  },
  {
   "cell_type": "code",
   "execution_count": 18,
   "id": "863d0100",
   "metadata": {},
   "outputs": [],
   "source": [
    "def predict_test(train, test, y, n_clusters, name):\n",
    "    kmeans = KMeans(n_clusters=n_clusters, n_init=5)\n",
    "    labels_train = kmeans.fit_predict(train)\n",
    "    labels_test = kmeans.predict(test)\n",
    "        \n",
    "    y_test_pred_all = np.empty((0,))\n",
    "    y_id_all = np.empty((0,))\n",
    "    \n",
    "    for idx in range(n_clusters):\n",
    "\n",
    "        clf = RandomForestRegressor(n_estimators=200, max_depth=6, max_features=5)\n",
    "\n",
    "\n",
    "        clf.fit(train.loc[labels_train == idx], y[labels_train == idx]['Price'])\n",
    "        y_test_pred = clf.predict(test.loc[labels_test == idx])\n",
    "\n",
    "        y_test_pred_all = np.hstack([y_test_pred_all, y_test_pred])        \n",
    "        y_id_all = np.hstack([y_id_all, test.loc[labels_test == idx].index])\n",
    "\n",
    "        \n",
    "    predict = pd.concat([pd.DataFrame(y_id_all, columns=['Id']), pd.DataFrame(y_test_pred_all, columns=['Price'])], axis=1)\n",
    "    id_test = pd.DataFrame(test.index)\n",
    "    \n",
    "    result = id_test.merge(predict, on='Id')"
   ]
  },
  {
   "cell_type": "code",
   "execution_count": 19,
   "id": "3b8800f1",
   "metadata": {},
   "outputs": [],
   "source": [
    "predict_test(train, test, y, 19, 'train')"
   ]
  },
  {
   "cell_type": "code",
   "execution_count": 20,
   "id": "33a8a593",
   "metadata": {},
   "outputs": [],
   "source": [
    "predict_test(train_standardized, test_standardized, y, 10, 'train_standardized')"
   ]
  },
  {
   "cell_type": "code",
   "execution_count": 21,
   "id": "aaf84f86",
   "metadata": {},
   "outputs": [],
   "source": [
    "predict_test(train_normalized, test_normalized, y, 14, 'train_normalized')"
   ]
  },
  {
   "cell_type": "code",
   "execution_count": 22,
   "id": "dec0376b",
   "metadata": {},
   "outputs": [],
   "source": [
    "predict_test(train_scaled, test_scaled, y, 15, 'train_scaled')"
   ]
  }
 ],
 "metadata": {
  "kernelspec": {
   "display_name": "Python 3 (ipykernel)",
   "language": "python",
   "name": "python3"
  },
  "language_info": {
   "codemirror_mode": {
    "name": "ipython",
    "version": 3
   },
   "file_extension": ".py",
   "mimetype": "text/x-python",
   "name": "python",
   "nbconvert_exporter": "python",
   "pygments_lexer": "ipython3",
   "version": "3.11.8"
  }
 },
 "nbformat": 4,
 "nbformat_minor": 5
}
